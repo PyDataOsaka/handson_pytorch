{
  "nbformat": 4,
  "nbformat_minor": 0,
  "metadata": {
    "colab": {
      "name": "resnet18_tpu.ipynb",
      "provenance": [],
      "collapsed_sections": [],
      "authorship_tag": "ABX9TyMkFdXfyF36OlyORfabWe+e",
      "include_colab_link": true
    },
    "kernelspec": {
      "name": "python3",
      "display_name": "Python 3"
    },
    "accelerator": "TPU"
  },
  "cells": [
    {
      "cell_type": "markdown",
      "metadata": {
        "id": "view-in-github",
        "colab_type": "text"
      },
      "source": [
        "<a href=\"https://colab.research.google.com/github/PyDataOsaka/handson_pytorch/blob/master/resnet18_tpu.ipynb\" target=\"_parent\"><img src=\"https://colab.research.google.com/assets/colab-badge.svg\" alt=\"Open In Colab\"/></a>"
      ]
    },
    {
      "cell_type": "markdown",
      "metadata": {
        "id": "6O_gWw0IdDY7",
        "colab_type": "text"
      },
      "source": [
        "# Pytorch hands-on (Resnet18)\n",
        "\n",
        "Code of Resnet18 was adapted from [here](https://github.com/pytorch/xla/blob/master/contrib/colab/resnet18-training.ipynb)"
      ]
    },
    {
      "cell_type": "code",
      "metadata": {
        "id": "K7-AMu-gjjaI",
        "colab_type": "code",
        "colab": {}
      },
      "source": [
        "import os\n",
        "assert os.environ['COLAB_TPU_ADDR'], 'Make sure to select TPU from Edit > Notebook settings > Hardware accelerator'"
      ],
      "execution_count": 0,
      "outputs": []
    },
    {
      "cell_type": "code",
      "metadata": {
        "id": "UD4O2lLfl6Yd",
        "colab_type": "code",
        "colab": {}
      },
      "source": [
        "os.environ[\"XLA_USE_BF16\"] = \"1\""
      ],
      "execution_count": 0,
      "outputs": []
    },
    {
      "cell_type": "code",
      "metadata": {
        "id": "3K_aYfDr4tGR",
        "colab_type": "code",
        "colab": {}
      },
      "source": [
        "!rm -r ./log"
      ],
      "execution_count": 0,
      "outputs": []
    },
    {
      "cell_type": "code",
      "metadata": {
        "id": "RdvMzk4P8L0h",
        "colab_type": "code",
        "colab": {}
      },
      "source": [
        "%tensorflow_version 2.x\n",
        "%load_ext tensorboard"
      ],
      "execution_count": 0,
      "outputs": []
    },
    {
      "cell_type": "code",
      "metadata": {
        "id": "UhEIDdMo8b1y",
        "colab_type": "code",
        "colab": {}
      },
      "source": [
        "%tensorboard --logdir ./log"
      ],
      "execution_count": 0,
      "outputs": []
    },
    {
      "cell_type": "markdown",
      "metadata": {
        "id": "PSEecisOjwHq",
        "colab_type": "text"
      },
      "source": [
        "## Installing Pytorch/XLA"
      ]
    },
    {
      "cell_type": "code",
      "metadata": {
        "id": "Vae8wQCGjuFq",
        "colab_type": "code",
        "colab": {}
      },
      "source": [
        "VERSION = \"20200325\"  #@param [\"1.5\" , \"20200325\", \"nightly\"]\n",
        "!curl https://raw.githubusercontent.com/pytorch/xla/master/contrib/scripts/env-setup.py -o pytorch-xla-env-setup.py\n",
        "!python pytorch-xla-env-setup.py --version $VERSION"
      ],
      "execution_count": 0,
      "outputs": []
    },
    {
      "cell_type": "code",
      "metadata": {
        "id": "1pntTjNDey8Y",
        "colab_type": "code",
        "colab": {}
      },
      "source": [
        "from time import time\n",
        "import torch\n",
        "from torch import nn\n",
        "from torch import optim\n",
        "import torch.nn.functional as F\n",
        "from torch.utils.tensorboard import SummaryWriter\n",
        "import torchvision\n",
        "import torchvision.transforms as transforms\n",
        "import torch_xla\n",
        "import torch_xla.core.xla_model as xm"
      ],
      "execution_count": 0,
      "outputs": []
    },
    {
      "cell_type": "markdown",
      "metadata": {
        "id": "KLmU-d73dMYz",
        "colab_type": "text"
      },
      "source": [
        "## Load image data"
      ]
    },
    {
      "cell_type": "code",
      "metadata": {
        "id": "1PN8KxRCeBM_",
        "colab_type": "code",
        "colab": {}
      },
      "source": [
        "def get_data(batch_size: int=64):\n",
        "  transform = transforms.Compose(\n",
        "    [transforms.ToTensor(),\n",
        "     transforms.Normalize((0.5, 0.5, 0.5), (0.5, 0.5, 0.5))])\n",
        "\n",
        "  trainset = torchvision.datasets.CIFAR10(root='./data', train=True,\n",
        "                                          download=True, transform=transform)\n",
        "  trainloader = torch.utils.data.DataLoader(trainset, batch_size=batch_size,\n",
        "                                            shuffle=True, num_workers=2)\n",
        "\n",
        "  testset = torchvision.datasets.CIFAR10(root='./data', train=False,\n",
        "                                         download=True, transform=transform)\n",
        "  testloader = torch.utils.data.DataLoader(testset, batch_size=4,\n",
        "                                           shuffle=False, num_workers=2)\n",
        "\n",
        "  classes = ('plane', 'car', 'bird', 'cat',\n",
        "             'deer', 'dog', 'frog', 'horse', 'ship', 'truck')\n",
        "  \n",
        "  return trainloader, testloader, classes"
      ],
      "execution_count": 0,
      "outputs": []
    },
    {
      "cell_type": "markdown",
      "metadata": {
        "id": "rmRYt4I2eqej",
        "colab_type": "text"
      },
      "source": [
        "## Resnet18"
      ]
    },
    {
      "cell_type": "code",
      "metadata": {
        "id": "eAAAbBHOeuYg",
        "colab_type": "code",
        "colab": {}
      },
      "source": [
        "class BasicBlock(nn.Module):\n",
        "  expansion = 1\n",
        "\n",
        "  def __init__(self, in_planes, planes, stride=1):\n",
        "    super(BasicBlock, self).__init__()\n",
        "    self.conv1 = nn.Conv2d(\n",
        "        in_planes, planes, kernel_size=3, stride=stride, padding=1, bias=False)\n",
        "    self.bn1 = nn.BatchNorm2d(planes)\n",
        "    self.conv2 = nn.Conv2d(\n",
        "        planes, planes, kernel_size=3, stride=1, padding=1, bias=False)\n",
        "    self.bn2 = nn.BatchNorm2d(planes)\n",
        "\n",
        "    self.shortcut = nn.Sequential()\n",
        "    if stride != 1 or in_planes != self.expansion * planes:\n",
        "      self.shortcut = nn.Sequential(\n",
        "        nn.Conv2d(\n",
        "          in_planes,\n",
        "          self.expansion * planes,\n",
        "          kernel_size=1,\n",
        "          stride=stride,\n",
        "          bias=False), nn.BatchNorm2d(self.expansion * planes))\n",
        "\n",
        "  def forward(self, x):\n",
        "    out = F.relu(self.bn1(self.conv1(x)))\n",
        "    out = self.bn2(self.conv2(out))\n",
        "    out += self.shortcut(x)\n",
        "    out = F.relu(out)\n",
        "    return out\n",
        "\n",
        "\n",
        "class ResNet(nn.Module):\n",
        "  def __init__(self, block, num_blocks, num_classes=10):\n",
        "    super(ResNet, self).__init__()\n",
        "    self.in_planes = 64\n",
        "\n",
        "    self.conv1 = nn.Conv2d(\n",
        "        3, 64, kernel_size=3, stride=1, padding=1, bias=False)\n",
        "    self.bn1 = nn.BatchNorm2d(64)\n",
        "    self.layer1 = self._make_layer(block, 64, num_blocks[0], stride=1)\n",
        "    self.layer2 = self._make_layer(block, 128, num_blocks[1], stride=2)\n",
        "    self.layer3 = self._make_layer(block, 256, num_blocks[2], stride=2)\n",
        "    self.layer4 = self._make_layer(block, 512, num_blocks[3], stride=2)\n",
        "    self.linear = nn.Linear(512 * block.expansion, num_classes)\n",
        "\n",
        "  def _make_layer(self, block, planes, num_blocks, stride):\n",
        "    strides = [stride] + [1] * (num_blocks - 1)\n",
        "    layers = []\n",
        "    for stride in strides:\n",
        "      layers.append(block(self.in_planes, planes, stride))\n",
        "      self.in_planes = planes * block.expansion\n",
        "    return nn.Sequential(*layers)\n",
        "\n",
        "  def forward(self, x):\n",
        "    out = F.relu(self.bn1(self.conv1(x)))\n",
        "    out = self.layer1(out)\n",
        "    out = self.layer2(out)\n",
        "    out = self.layer3(out)\n",
        "    out = self.layer4(out)\n",
        "    out = F.avg_pool2d(out, 4)\n",
        "    out = torch.flatten(out, 1)\n",
        "    out = self.linear(out)\n",
        "    return F.log_softmax(out, dim=1)\n",
        "\n",
        "def ResNet18():\n",
        "  return ResNet(BasicBlock, [2, 2, 2, 2])"
      ],
      "execution_count": 0,
      "outputs": []
    },
    {
      "cell_type": "markdown",
      "metadata": {
        "id": "y5WAQqDOvHlG",
        "colab_type": "text"
      },
      "source": [
        "## Define functions"
      ]
    },
    {
      "cell_type": "markdown",
      "metadata": {
        "id": "avMEYcqivKqu",
        "colab_type": "text"
      },
      "source": [
        "### Training"
      ]
    },
    {
      "cell_type": "code",
      "metadata": {
        "id": "gf9a2nfwdbKz",
        "colab_type": "code",
        "colab": {}
      },
      "source": [
        "def train(model: nn.Module, trainloader, log_dir: str, device: str=\"cpu\",\n",
        "          n_epochs=4):\n",
        "  model.to(device)\n",
        "\n",
        "  loss = nn.CrossEntropyLoss()\n",
        "  opt = optim.SGD(model.parameters(), lr=0.02, momentum=0.9, weight_decay=5e-4)\n",
        "\n",
        "  writer = SummaryWriter(log_dir)\n",
        "  running_loss = 0.0\n",
        "  prev_time = time()\n",
        "  n_minibatches = 0\n",
        "  terminate_for_cpu = False\n",
        "\n",
        "  for epoch in range(n_epochs):\n",
        "    # When using CPU the loop will be terminated after a few steps\n",
        "    if terminate_for_cpu:\n",
        "      break\n",
        "\n",
        "    for i, data in enumerate(trainloader, 0):\n",
        "      # get the inputs; data is a list of [inputs, labels]\n",
        "      inputs = data[0].to(device)\n",
        "      labels = data[1].to(device)\n",
        "\n",
        "      # zero the parameter gradients\n",
        "      opt.zero_grad()\n",
        "\n",
        "      # forward + backward + optimize\n",
        "      outputs = model(inputs)\n",
        "      loss_value = loss(outputs, labels)\n",
        "      loss_value.backward()\n",
        "      # opt.step() # For CPU/GPU\n",
        "      xm.optimizer_step(opt, barrier=True)  # Note: Cloud TPU-specific code!\n",
        "\n",
        "      writer.add_scalar(\"loss_value\", loss_value, n_minibatches)\n",
        "      n_minibatches += 1\n",
        "\n",
        "      # print statistics\n",
        "      running_loss += loss_value.item()\n",
        "      if device == \"cpu\":\n",
        "        if i == 4:\n",
        "          dt = time() - prev_time\n",
        "          print(\"Elapsed time: {:.1f} [sec] for 5 training steps\".format(dt))\n",
        "          print(\"({:.1f} [sec] for 100 updates)\".format(20 * dt))\n",
        "          terminate_for_cpu = True\n",
        "          break\n",
        "      else:\n",
        "        if i % 100 == 99:    # print every 100 mini-batches\n",
        "          print('[{}, {:5d}] loss: {:.3f}, elapsed time: {:.1f} [sec]'.format(\n",
        "                epoch + 1, i + 1, running_loss / 2000, time() - prev_time))\n",
        "          running_loss = 0.0\n",
        "          prev_time = time()\n",
        "\n",
        "  writer.close()"
      ],
      "execution_count": 0,
      "outputs": []
    },
    {
      "cell_type": "markdown",
      "metadata": {
        "id": "hUF2KlM6vOJ9",
        "colab_type": "text"
      },
      "source": [
        "### Prediction"
      ]
    },
    {
      "cell_type": "code",
      "metadata": {
        "id": "K38G8Rf4vQbT",
        "colab_type": "code",
        "colab": {}
      },
      "source": [
        "def evaluate(model: nn.Module, testloader, device: str=\"cpu\"):\n",
        "  correct = 0\n",
        "  total = 0\n",
        "\n",
        "  with torch.no_grad():\n",
        "    for data in testloader:\n",
        "      inputs = data[0].to(device)\n",
        "      labels = data[1].to(device)\n",
        "      outputs = model(inputs)\n",
        "      _, predicted = torch.max(outputs.data, 1)\n",
        "      total += labels.size(0)\n",
        "      correct += predicted.eq(labels.view_as(predicted)).sum().item()\n",
        "\n",
        "    print('Accuracy of the network on the 10000 test images: %d %%' % (\n",
        "          100 * correct / total))"
      ],
      "execution_count": 0,
      "outputs": []
    },
    {
      "cell_type": "markdown",
      "metadata": {
        "id": "wZkUvJ0CQcvQ",
        "colab_type": "text"
      },
      "source": [
        "## Training and evaluation of the model on TPU"
      ]
    },
    {
      "cell_type": "code",
      "metadata": {
        "id": "QQLWYaBaJ9Ww",
        "colab_type": "code",
        "colab": {}
      },
      "source": [
        "trainloader, testloader, classes = get_data()\n",
        "model = ResNet18()\n",
        "\n",
        "dev = xm.xla_device()\n",
        "model.train()\n",
        "train(model, trainloader, \"./log/3\", dev)\n",
        "model.eval()\n",
        "evaluate(model, testloader, dev)"
      ],
      "execution_count": 0,
      "outputs": []
    },
    {
      "cell_type": "code",
      "metadata": {
        "id": "kQU2FP-Hs9Qu",
        "colab_type": "code",
        "colab": {}
      },
      "source": [
        "!nvidia-smi"
      ],
      "execution_count": 0,
      "outputs": []
    },
    {
      "cell_type": "code",
      "metadata": {
        "id": "uB0dRySf3o6V",
        "colab_type": "code",
        "colab": {}
      },
      "source": [
        ""
      ],
      "execution_count": 0,
      "outputs": []
    }
  ]
}